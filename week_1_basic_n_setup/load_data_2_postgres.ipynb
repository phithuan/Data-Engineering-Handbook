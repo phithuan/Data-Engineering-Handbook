{
 "cells": [
  {
   "cell_type": "code",
   "execution_count": null,
   "id": "ad671525",
   "metadata": {},
   "outputs": [],
   "source": [
    "# ✅ Import thư viện\n",
    "import pandas as pd\n",
    "from sqlalchemy import create_engine\n",
    "from time import time\n",
    "\n",
    "# ✅ Khai báo thông tin kết nối PostgreSQL\n",
    "user = \"root\"\n",
    "password = \"root\"\n",
    "host = \"localhost\"     # hoặc 'pgdatabase' nếu chạy trong Docker\n",
    "port = 5432\n",
    "db = \"ny_taxi\"\n",
    "table_name = \"yellow_taxi_data\"\n",
    "\n",
    "# ✅ Đường dẫn tới file CSV hoặc Parquet\n",
    "csv_file = \"E:/yellow_tripdata_2024-01.csv\"\n",
    "# parquet_file = \"E:/yellow_tripdata_2024-01.parquet\"\n",
    "\n",
    "# ✅ Tạo engine kết nối\n",
    "engine = create_engine(f'postgresql://{user}:{password}@{host}:{port}/{db}')\n",
    "\n",
    "# ✅ Đọc file theo từng chunk (tránh out of memory)\n",
    "df_iter = pd.read_csv(csv_file, iterator=True, chunksize=100000)\n",
    "\n",
    "for df in df_iter:\n",
    "    t_start = time()\n",
    "\n",
    "    # ✅ Chuyển datetime nếu có cột thời gian\n",
    "    if 'tpep_pickup_datetime' in df.columns:\n",
    "        df['tpep_pickup_datetime'] = pd.to_datetime(df['tpep_pickup_datetime'])\n",
    "    if 'tpep_dropoff_datetime' in df.columns:\n",
    "        df['tpep_dropoff_datetime'] = pd.to_datetime(df['tpep_dropoff_datetime'])\n",
    "\n",
    "    # ✅ Ghi vào PostgreSQL\n",
    "    df.to_sql(name=table_name, con=engine, if_exists='append', index=False)\n",
    "\n",
    "    t_end = time()\n",
    "    print(f\"✔️ Inserted a chunk in {t_end - t_start:.2f} seconds\")\n",
    "\n",
    "engine.dispose()\n"
   ]
  },
  {
   "cell_type": "code",
   "execution_count": null,
   "id": "a7030846",
   "metadata": {},
   "outputs": [],
   "source": [
    "SELECT COUNT(*) FROM yellow_taxi_data;"
   ]
  }
 ],
 "metadata": {
  "kernelspec": {
   "display_name": "venv",
   "language": "python",
   "name": "python3"
  },
  "language_info": {
   "name": "python",
   "version": "3.13.3"
  }
 },
 "nbformat": 4,
 "nbformat_minor": 5
}
