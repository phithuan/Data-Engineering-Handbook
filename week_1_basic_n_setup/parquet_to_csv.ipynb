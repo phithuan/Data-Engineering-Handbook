{
 "cells": [
  {
   "cell_type": "markdown",
   "id": "10f20e6d",
   "metadata": {},
   "source": [
    "Prepare Data\n",
    "Download NY Trips Dataset:\n",
    "\n",
    "https://www1.nyc.gov/site/tlc/about/tlc-trip-record-data.page\n",
    "https://www1.nyc.gov/assets/tlc/downloads/pdf/data_dictionary_trip_records_yellow.pdf\n",
    "Note: For changing to from parquet format to csv, use sample pandas function:"
   ]
  },
  {
   "cell_type": "code",
   "execution_count": null,
   "id": "36ed3154",
   "metadata": {},
   "outputs": [],
   "source": [
    "import pandas as pd\n",
    "\n",
    "# Read the Parquet file\n",
    "df = pd.read_parquet(r\"D:\\Downloads\\yellow_tripdata_2025-01 (1).parquet\")\n",
    "\n",
    "df.head()\n",
    "# Save as CSV file\n",
    "df.to_csv(r'E:\\Data-Engineering-Handbook\\week_1_basic_n_setup\\data\\CSV\\yellow_tripdata_2025-01.csv', index=False)\n",
    "\n",
    "#pip install fastparquet\n",
    "#pip install pyarrow"
   ]
  },
  {
   "cell_type": "code",
   "execution_count": null,
   "id": "9a65a6b9",
   "metadata": {},
   "outputs": [],
   "source": []
  }
 ],
 "metadata": {
  "kernelspec": {
   "display_name": "venv",
   "language": "python",
   "name": "python3"
  },
  "language_info": {
   "codemirror_mode": {
    "name": "ipython",
    "version": 3
   },
   "file_extension": ".py",
   "mimetype": "text/x-python",
   "name": "python",
   "nbconvert_exporter": "python",
   "pygments_lexer": "ipython3",
   "version": "3.13.3"
  }
 },
 "nbformat": 4,
 "nbformat_minor": 5
}
