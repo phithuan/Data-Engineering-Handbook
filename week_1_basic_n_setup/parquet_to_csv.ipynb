{
 "cells": [
  {
   "cell_type": "markdown",
   "id": "10f20e6d",
   "metadata": {},
   "source": [
    "Prepare Data\n",
    "Download NY Trips Dataset:\n",
    "\n",
    "https://www1.nyc.gov/site/tlc/about/tlc-trip-record-data.page\n",
    "https://www1.nyc.gov/assets/tlc/downloads/pdf/data_dictionary_trip_records_yellow.pdf\n",
    "Note: For changing to from parquet format to csv, use sample pandas function:"
   ]
  },
  {
   "cell_type": "code",
   "execution_count": null,
   "id": "36ed3154",
   "metadata": {},
   "outputs": [],
   "source": [
    "import pandas as pd\n",
    "\n",
    "# Read the Parquet file\n",
    "df = pd.read_parquet('../data/yellow_tripdata_2024-01.parquet.parquet')\n",
    "\n",
    "df.head()\n",
    "# Save as CSV file\n",
    "df.to_csv('../data/yellow_tripdata_2024-01.parquet.csv', index=False)\n"
   ]
  }
 ],
 "metadata": {
  "kernelspec": {
   "display_name": "venv",
   "language": "python",
   "name": "python3"
  },
  "language_info": {
   "name": "python",
   "version": "3.13.3"
  }
 },
 "nbformat": 4,
 "nbformat_minor": 5
}
